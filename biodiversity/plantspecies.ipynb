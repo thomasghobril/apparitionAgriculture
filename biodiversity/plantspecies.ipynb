{
 "cells": [
  {
   "cell_type": "code",
   "execution_count": null,
   "metadata": {},
   "outputs": [],
   "source": [
    "pip install -r requirements.txt"
   ]
  },
  {
   "cell_type": "code",
   "execution_count": 79,
   "metadata": {},
   "outputs": [],
   "source": [
    "import pandas as pd\n",
    "import dask.dataframe as dd\n",
    "import numpy as np\n",
    "import matplotlib.pyplot as plt"
   ]
  },
  {
   "cell_type": "code",
   "execution_count": 34,
   "metadata": {},
   "outputs": [],
   "source": [
    "wildCrops = dd.read_csv(\"Data/A global database for the distributions of crop wild relatives/wildCrops.csv\", sep='\\t', dtype={'recordNumber': 'object',\n",
    "       'speciesKey': 'float64'}, on_bad_lines='skip')"
   ]
  },
  {
   "cell_type": "code",
   "execution_count": null,
   "metadata": {},
   "outputs": [],
   "source": [
    "wildCropsDF = wildCrops.compute()"
   ]
  },
  {
   "cell_type": "code",
   "execution_count": 78,
   "metadata": {},
   "outputs": [
    {
     "data": {
      "text/html": [
       "<div>\n",
       "<style scoped>\n",
       "    .dataframe tbody tr th:only-of-type {\n",
       "        vertical-align: middle;\n",
       "    }\n",
       "\n",
       "    .dataframe tbody tr th {\n",
       "        vertical-align: top;\n",
       "    }\n",
       "\n",
       "    .dataframe thead th {\n",
       "        text-align: right;\n",
       "    }\n",
       "</style>\n",
       "<table border=\"1\" class=\"dataframe\">\n",
       "  <thead>\n",
       "    <tr style=\"text-align: right;\">\n",
       "      <th></th>\n",
       "      <th>gbifID</th>\n",
       "      <th>datasetKey</th>\n",
       "      <th>occurrenceID</th>\n",
       "      <th>kingdom</th>\n",
       "      <th>phylum</th>\n",
       "      <th>class</th>\n",
       "      <th>order</th>\n",
       "      <th>family</th>\n",
       "      <th>genus</th>\n",
       "      <th>species</th>\n",
       "      <th>...</th>\n",
       "      <th>identifiedBy</th>\n",
       "      <th>dateIdentified</th>\n",
       "      <th>license</th>\n",
       "      <th>rightsHolder</th>\n",
       "      <th>recordedBy</th>\n",
       "      <th>typeStatus</th>\n",
       "      <th>establishmentMeans</th>\n",
       "      <th>lastInterpreted</th>\n",
       "      <th>mediaType</th>\n",
       "      <th>issue</th>\n",
       "    </tr>\n",
       "  </thead>\n",
       "  <tbody>\n",
       "    <tr>\n",
       "      <th>0</th>\n",
       "      <td>1304517142</td>\n",
       "      <td>07044577-bd82-4089-9f3a-f4a9d2170b2e</td>\n",
       "      <td>866e6c58-8c62-4990-8657-10627fa4d47d</td>\n",
       "      <td>Plantae</td>\n",
       "      <td>Tracheophyta</td>\n",
       "      <td>Magnoliopsida</td>\n",
       "      <td>Caryophyllales</td>\n",
       "      <td>Amaranthaceae</td>\n",
       "      <td>Chenopodium</td>\n",
       "      <td>Chenopodium berlandieri</td>\n",
       "      <td>...</td>\n",
       "      <td>NaN</td>\n",
       "      <td>NaN</td>\n",
       "      <td>CC_BY_4_0</td>\n",
       "      <td>NaN</td>\n",
       "      <td>F. R. Fosberg</td>\n",
       "      <td>NaN</td>\n",
       "      <td>NaN</td>\n",
       "      <td>2023-08-25T14:04:57.385Z</td>\n",
       "      <td>NaN</td>\n",
       "      <td>NaN</td>\n",
       "    </tr>\n",
       "    <tr>\n",
       "      <th>1</th>\n",
       "      <td>1304517160</td>\n",
       "      <td>07044577-bd82-4089-9f3a-f4a9d2170b2e</td>\n",
       "      <td>c789322e-0a2f-41db-b70a-2e0eb47d3219</td>\n",
       "      <td>Plantae</td>\n",
       "      <td>Tracheophyta</td>\n",
       "      <td>Magnoliopsida</td>\n",
       "      <td>Saxifragales</td>\n",
       "      <td>Grossulariaceae</td>\n",
       "      <td>Ribes</td>\n",
       "      <td>Ribes cereum</td>\n",
       "      <td>...</td>\n",
       "      <td>NaN</td>\n",
       "      <td>NaN</td>\n",
       "      <td>CC_BY_4_0</td>\n",
       "      <td>NaN</td>\n",
       "      <td>T. M. Hendrix</td>\n",
       "      <td>NaN</td>\n",
       "      <td>Native</td>\n",
       "      <td>2023-08-25T14:04:57.385Z</td>\n",
       "      <td>NaN</td>\n",
       "      <td>COORDINATE_ROUNDED;GEODETIC_DATUM_ASSUMED_WGS8...</td>\n",
       "    </tr>\n",
       "    <tr>\n",
       "      <th>2</th>\n",
       "      <td>1304517214</td>\n",
       "      <td>07044577-bd82-4089-9f3a-f4a9d2170b2e</td>\n",
       "      <td>967c24fa-7e52-453d-acd6-b56745386273</td>\n",
       "      <td>Plantae</td>\n",
       "      <td>Tracheophyta</td>\n",
       "      <td>Magnoliopsida</td>\n",
       "      <td>Rosales</td>\n",
       "      <td>Rosaceae</td>\n",
       "      <td>Fragaria</td>\n",
       "      <td>Fragaria virginiana</td>\n",
       "      <td>...</td>\n",
       "      <td>NaN</td>\n",
       "      <td>NaN</td>\n",
       "      <td>CC_BY_4_0</td>\n",
       "      <td>NaN</td>\n",
       "      <td>Harold and Virginia Bailey</td>\n",
       "      <td>NaN</td>\n",
       "      <td>Native</td>\n",
       "      <td>2023-08-25T14:04:57.385Z</td>\n",
       "      <td>NaN</td>\n",
       "      <td>NaN</td>\n",
       "    </tr>\n",
       "    <tr>\n",
       "      <th>3</th>\n",
       "      <td>1304517232</td>\n",
       "      <td>07044577-bd82-4089-9f3a-f4a9d2170b2e</td>\n",
       "      <td>9e138d15-6d34-433a-ae77-b83ef253edc4</td>\n",
       "      <td>Plantae</td>\n",
       "      <td>Tracheophyta</td>\n",
       "      <td>Liliopsida</td>\n",
       "      <td>Poales</td>\n",
       "      <td>Poaceae</td>\n",
       "      <td>Elymus</td>\n",
       "      <td>Elymus saundersii</td>\n",
       "      <td>...</td>\n",
       "      <td>NaN</td>\n",
       "      <td>NaN</td>\n",
       "      <td>CC_BY_4_0</td>\n",
       "      <td>NaN</td>\n",
       "      <td>Peter H. Raven</td>\n",
       "      <td>NaN</td>\n",
       "      <td>NaN</td>\n",
       "      <td>2023-08-25T14:04:57.385Z</td>\n",
       "      <td>NaN</td>\n",
       "      <td>COORDINATE_ROUNDED;GEODETIC_DATUM_ASSUMED_WGS8...</td>\n",
       "    </tr>\n",
       "    <tr>\n",
       "      <th>4</th>\n",
       "      <td>1304517250</td>\n",
       "      <td>07044577-bd82-4089-9f3a-f4a9d2170b2e</td>\n",
       "      <td>120bc4bd-6124-4f0f-9d02-84d58493f1bc</td>\n",
       "      <td>Plantae</td>\n",
       "      <td>Tracheophyta</td>\n",
       "      <td>Magnoliopsida</td>\n",
       "      <td>Saxifragales</td>\n",
       "      <td>Grossulariaceae</td>\n",
       "      <td>Ribes</td>\n",
       "      <td>Ribes roezlii</td>\n",
       "      <td>...</td>\n",
       "      <td>NaN</td>\n",
       "      <td>NaN</td>\n",
       "      <td>CC_BY_4_0</td>\n",
       "      <td>NaN</td>\n",
       "      <td>T. C. Fuller</td>\n",
       "      <td>NaN</td>\n",
       "      <td>NaN</td>\n",
       "      <td>2023-08-25T14:04:57.389Z</td>\n",
       "      <td>NaN</td>\n",
       "      <td>NaN</td>\n",
       "    </tr>\n",
       "  </tbody>\n",
       "</table>\n",
       "<p>5 rows × 50 columns</p>\n",
       "</div>"
      ],
      "text/plain": [
       "       gbifID                            datasetKey  \\\n",
       "0  1304517142  07044577-bd82-4089-9f3a-f4a9d2170b2e   \n",
       "1  1304517160  07044577-bd82-4089-9f3a-f4a9d2170b2e   \n",
       "2  1304517214  07044577-bd82-4089-9f3a-f4a9d2170b2e   \n",
       "3  1304517232  07044577-bd82-4089-9f3a-f4a9d2170b2e   \n",
       "4  1304517250  07044577-bd82-4089-9f3a-f4a9d2170b2e   \n",
       "\n",
       "                           occurrenceID  kingdom        phylum          class  \\\n",
       "0  866e6c58-8c62-4990-8657-10627fa4d47d  Plantae  Tracheophyta  Magnoliopsida   \n",
       "1  c789322e-0a2f-41db-b70a-2e0eb47d3219  Plantae  Tracheophyta  Magnoliopsida   \n",
       "2  967c24fa-7e52-453d-acd6-b56745386273  Plantae  Tracheophyta  Magnoliopsida   \n",
       "3  9e138d15-6d34-433a-ae77-b83ef253edc4  Plantae  Tracheophyta     Liliopsida   \n",
       "4  120bc4bd-6124-4f0f-9d02-84d58493f1bc  Plantae  Tracheophyta  Magnoliopsida   \n",
       "\n",
       "            order           family        genus                  species  ...  \\\n",
       "0  Caryophyllales    Amaranthaceae  Chenopodium  Chenopodium berlandieri  ...   \n",
       "1    Saxifragales  Grossulariaceae        Ribes             Ribes cereum  ...   \n",
       "2         Rosales         Rosaceae     Fragaria      Fragaria virginiana  ...   \n",
       "3          Poales          Poaceae       Elymus        Elymus saundersii  ...   \n",
       "4    Saxifragales  Grossulariaceae        Ribes            Ribes roezlii  ...   \n",
       "\n",
       "  identifiedBy dateIdentified    license rightsHolder  \\\n",
       "0          NaN            NaN  CC_BY_4_0          NaN   \n",
       "1          NaN            NaN  CC_BY_4_0          NaN   \n",
       "2          NaN            NaN  CC_BY_4_0          NaN   \n",
       "3          NaN            NaN  CC_BY_4_0          NaN   \n",
       "4          NaN            NaN  CC_BY_4_0          NaN   \n",
       "\n",
       "                   recordedBy typeStatus establishmentMeans  \\\n",
       "0               F. R. Fosberg        NaN                NaN   \n",
       "1               T. M. Hendrix        NaN             Native   \n",
       "2  Harold and Virginia Bailey        NaN             Native   \n",
       "3              Peter H. Raven        NaN                NaN   \n",
       "4                T. C. Fuller        NaN                NaN   \n",
       "\n",
       "            lastInterpreted mediaType  \\\n",
       "0  2023-08-25T14:04:57.385Z       NaN   \n",
       "1  2023-08-25T14:04:57.385Z       NaN   \n",
       "2  2023-08-25T14:04:57.385Z       NaN   \n",
       "3  2023-08-25T14:04:57.385Z       NaN   \n",
       "4  2023-08-25T14:04:57.389Z       NaN   \n",
       "\n",
       "                                               issue  \n",
       "0                                                NaN  \n",
       "1  COORDINATE_ROUNDED;GEODETIC_DATUM_ASSUMED_WGS8...  \n",
       "2                                                NaN  \n",
       "3  COORDINATE_ROUNDED;GEODETIC_DATUM_ASSUMED_WGS8...  \n",
       "4                                                NaN  \n",
       "\n",
       "[5 rows x 50 columns]"
      ]
     },
     "execution_count": 78,
     "metadata": {},
     "output_type": "execute_result"
    }
   ],
   "source": [
    "wildCropsDF.head()\n"
   ]
  },
  {
   "cell_type": "code",
   "execution_count": 37,
   "metadata": {},
   "outputs": [
    {
     "data": {
      "text/plain": [
       "(3393632, 50)"
      ]
     },
     "execution_count": 37,
     "metadata": {},
     "output_type": "execute_result"
    }
   ],
   "source": [
    "wildCropsDF.shape"
   ]
  },
  {
   "cell_type": "code",
   "execution_count": 38,
   "metadata": {},
   "outputs": [
    {
     "data": {
      "text/plain": [
       "Index(['gbifID', 'datasetKey', 'occurrenceID', 'kingdom', 'phylum', 'class',\n",
       "       'order', 'family', 'genus', 'species', 'infraspecificEpithet',\n",
       "       'taxonRank', 'scientificName', 'verbatimScientificName',\n",
       "       'verbatimScientificNameAuthorship', 'countryCode', 'locality',\n",
       "       'stateProvince', 'occurrenceStatus', 'individualCount',\n",
       "       'publishingOrgKey', 'decimalLatitude', 'decimalLongitude',\n",
       "       'coordinateUncertaintyInMeters', 'coordinatePrecision', 'elevation',\n",
       "       'elevationAccuracy', 'depth', 'depthAccuracy', 'eventDate', 'day',\n",
       "       'month', 'year', 'taxonKey', 'speciesKey', 'basisOfRecord',\n",
       "       'institutionCode', 'collectionCode', 'catalogNumber', 'recordNumber',\n",
       "       'identifiedBy', 'dateIdentified', 'license', 'rightsHolder',\n",
       "       'recordedBy', 'typeStatus', 'establishmentMeans', 'lastInterpreted',\n",
       "       'mediaType', 'issue'],\n",
       "      dtype='object')"
      ]
     },
     "execution_count": 38,
     "metadata": {},
     "output_type": "execute_result"
    }
   ],
   "source": [
    "wildCropsDF.columns"
   ]
  },
  {
   "cell_type": "code",
   "execution_count": 39,
   "metadata": {},
   "outputs": [],
   "source": [
    "wildCropsSpecies = wildCropsDF[['species','decimalLatitude','decimalLongitude']]\n",
    "wildCropsSpeciesNonNullCoordinates = wildCropsSpecies[wildCropsSpecies.notnull().all(1)]"
   ]
  },
  {
   "cell_type": "code",
   "execution_count": 40,
   "metadata": {},
   "outputs": [
    {
     "data": {
      "text/plain": [
       "<bound method NDFrame.head of                        species  decimalLatitude  decimalLongitude\n",
       "1                 Ribes cereum        38.234699       -119.350601\n",
       "3            Elymus saundersii        37.358154       -118.805267\n",
       "5       Solanum agrimonifolium        14.932100        -91.906300\n",
       "7         Dioscorea bartlettii        17.202500        -89.616800\n",
       "8           Allium falcifolium        40.340000       -123.540000\n",
       "...                        ...              ...               ...\n",
       "141996          Setaria pumila        42.293300         27.618300\n",
       "141998                Zea mays        20.130000       -103.330000\n",
       "142004         Cicer arietinum        38.905300         48.395600\n",
       "142006                Zea mays        44.100000         21.600000\n",
       "142010         Capsicum annuum        37.306400         -4.654170\n",
       "\n",
       "[1235244 rows x 3 columns]>"
      ]
     },
     "execution_count": 40,
     "metadata": {},
     "output_type": "execute_result"
    }
   ],
   "source": [
    "wildCropsSpeciesNonNullCoordinates.head"
   ]
  },
  {
   "cell_type": "code",
   "execution_count": 41,
   "metadata": {},
   "outputs": [],
   "source": [
    "plantSpeciesGroupByCoordinates = wildCropsSpeciesNonNullCoordinates.groupby(\n",
    "    [\"decimalLatitude\",\"decimalLongitude\"], as_index=False\n",
    "    )[\"species\"].nunique()"
   ]
  },
  {
   "cell_type": "code",
   "execution_count": 42,
   "metadata": {},
   "outputs": [
    {
     "data": {
      "text/html": [
       "<div>\n",
       "<style scoped>\n",
       "    .dataframe tbody tr th:only-of-type {\n",
       "        vertical-align: middle;\n",
       "    }\n",
       "\n",
       "    .dataframe tbody tr th {\n",
       "        vertical-align: top;\n",
       "    }\n",
       "\n",
       "    .dataframe thead th {\n",
       "        text-align: right;\n",
       "    }\n",
       "</style>\n",
       "<table border=\"1\" class=\"dataframe\">\n",
       "  <thead>\n",
       "    <tr style=\"text-align: right;\">\n",
       "      <th></th>\n",
       "      <th>decimalLatitude</th>\n",
       "      <th>decimalLongitude</th>\n",
       "      <th>species</th>\n",
       "    </tr>\n",
       "  </thead>\n",
       "  <tbody>\n",
       "    <tr>\n",
       "      <th>0</th>\n",
       "      <td>-80.334400</td>\n",
       "      <td>-84.192200</td>\n",
       "      <td>2</td>\n",
       "    </tr>\n",
       "    <tr>\n",
       "      <th>1</th>\n",
       "      <td>-80.333333</td>\n",
       "      <td>-84.166667</td>\n",
       "      <td>1</td>\n",
       "    </tr>\n",
       "    <tr>\n",
       "      <th>2</th>\n",
       "      <td>-60.666667</td>\n",
       "      <td>-60.666667</td>\n",
       "      <td>2</td>\n",
       "    </tr>\n",
       "    <tr>\n",
       "      <th>3</th>\n",
       "      <td>-60.500000</td>\n",
       "      <td>-60.500000</td>\n",
       "      <td>1</td>\n",
       "    </tr>\n",
       "    <tr>\n",
       "      <th>4</th>\n",
       "      <td>-60.250000</td>\n",
       "      <td>-60.250000</td>\n",
       "      <td>1</td>\n",
       "    </tr>\n",
       "  </tbody>\n",
       "</table>\n",
       "</div>"
      ],
      "text/plain": [
       "   decimalLatitude  decimalLongitude  species\n",
       "0       -80.334400        -84.192200        2\n",
       "1       -80.333333        -84.166667        1\n",
       "2       -60.666667        -60.666667        2\n",
       "3       -60.500000        -60.500000        1\n",
       "4       -60.250000        -60.250000        1"
      ]
     },
     "execution_count": 42,
     "metadata": {},
     "output_type": "execute_result"
    }
   ],
   "source": [
    "plantSpeciesGroupByCoordinates.head()"
   ]
  },
  {
   "cell_type": "code",
   "execution_count": 43,
   "metadata": {},
   "outputs": [
    {
     "data": {
      "text/plain": [
       "4048"
      ]
     },
     "execution_count": 43,
     "metadata": {},
     "output_type": "execute_result"
    }
   ],
   "source": [
    "plantSpeciesGroupByCoordinates[\"species\"].max()"
   ]
  },
  {
   "cell_type": "code",
   "execution_count": 44,
   "metadata": {},
   "outputs": [],
   "source": [
    "newColumnsTitles = [\"species\",\"decimalLatitude\",\"decimalLongitude\"]\n",
    "plantSpeciesGroupByCoordinates=plantSpeciesGroupByCoordinates.reindex(columns=newColumnsTitles)"
   ]
  },
  {
   "cell_type": "code",
   "execution_count": 45,
   "metadata": {},
   "outputs": [
    {
     "data": {
      "text/html": [
       "<div>\n",
       "<style scoped>\n",
       "    .dataframe tbody tr th:only-of-type {\n",
       "        vertical-align: middle;\n",
       "    }\n",
       "\n",
       "    .dataframe tbody tr th {\n",
       "        vertical-align: top;\n",
       "    }\n",
       "\n",
       "    .dataframe thead th {\n",
       "        text-align: right;\n",
       "    }\n",
       "</style>\n",
       "<table border=\"1\" class=\"dataframe\">\n",
       "  <thead>\n",
       "    <tr style=\"text-align: right;\">\n",
       "      <th></th>\n",
       "      <th>species</th>\n",
       "      <th>decimalLatitude</th>\n",
       "      <th>decimalLongitude</th>\n",
       "    </tr>\n",
       "  </thead>\n",
       "  <tbody>\n",
       "    <tr>\n",
       "      <th>0</th>\n",
       "      <td>2</td>\n",
       "      <td>-80.334400</td>\n",
       "      <td>-84.192200</td>\n",
       "    </tr>\n",
       "    <tr>\n",
       "      <th>1</th>\n",
       "      <td>1</td>\n",
       "      <td>-80.333333</td>\n",
       "      <td>-84.166667</td>\n",
       "    </tr>\n",
       "    <tr>\n",
       "      <th>2</th>\n",
       "      <td>2</td>\n",
       "      <td>-60.666667</td>\n",
       "      <td>-60.666667</td>\n",
       "    </tr>\n",
       "    <tr>\n",
       "      <th>3</th>\n",
       "      <td>1</td>\n",
       "      <td>-60.500000</td>\n",
       "      <td>-60.500000</td>\n",
       "    </tr>\n",
       "    <tr>\n",
       "      <th>4</th>\n",
       "      <td>1</td>\n",
       "      <td>-60.250000</td>\n",
       "      <td>-60.250000</td>\n",
       "    </tr>\n",
       "  </tbody>\n",
       "</table>\n",
       "</div>"
      ],
      "text/plain": [
       "   species  decimalLatitude  decimalLongitude\n",
       "0        2       -80.334400        -84.192200\n",
       "1        1       -80.333333        -84.166667\n",
       "2        2       -60.666667        -60.666667\n",
       "3        1       -60.500000        -60.500000\n",
       "4        1       -60.250000        -60.250000"
      ]
     },
     "execution_count": 45,
     "metadata": {},
     "output_type": "execute_result"
    }
   ],
   "source": [
    "plantSpeciesGroupByCoordinates.head()"
   ]
  },
  {
   "cell_type": "code",
   "execution_count": 46,
   "metadata": {},
   "outputs": [],
   "source": [
    "plantSpeciesGroupByCoordinatesArray = plantSpeciesGroupByCoordinates.to_numpy()"
   ]
  },
  {
   "cell_type": "code",
   "execution_count": 77,
   "metadata": {},
   "outputs": [
    {
     "data": {
      "text/plain": [
       "array([[  2.      , -80.3344  , -84.1922  ],\n",
       "       [  1.      , -80.333333, -84.166667],\n",
       "       [  2.      , -60.666667, -60.666667],\n",
       "       ...,\n",
       "       [  1.      ,  89.166667, -13.483333],\n",
       "       [  1.      ,  89.208333, -15.416667],\n",
       "       [  2.      ,  89.716667, -48.166667]])"
      ]
     },
     "execution_count": 77,
     "metadata": {},
     "output_type": "execute_result"
    }
   ],
   "source": [
    "plantSpeciesGroupByCoordinatesArray"
   ]
  },
  {
   "cell_type": "code",
   "execution_count": 86,
   "metadata": {},
   "outputs": [
    {
     "data": {
      "text/plain": [
       "<matplotlib.collections.PathCollection at 0x2336232ead0>"
      ]
     },
     "execution_count": 86,
     "metadata": {},
     "output_type": "execute_result"
    },
    {
     "data": {
      "image/png": "[encoded data removed]",
      "text/plain": [
       "<Figure size 640x480 with 1 Axes>"
      ]
     },
     "metadata": {},
     "output_type": "display_data"
    }
   ],
   "source": [
    "plt.scatter(plantSpeciesGroupByCoordinatesArray[:,2],\n",
    "                                        plantSpeciesGroupByCoordinatesArray[:,1])"
   ]
  },
  {
   "cell_type": "code",
   "execution_count": 74,
   "metadata": {},
   "outputs": [
    {
     "data": {
      "text/plain": [
       "species               1.0000\n",
       "decimalLatitude     -80.3344\n",
       "decimalLongitude   -179.9300\n",
       "dtype: float64"
      ]
     },
     "execution_count": 74,
     "metadata": {},
     "output_type": "execute_result"
    }
   ],
   "source": [
    "plantSpeciesGroupByCoordinates.min()"
   ]
  },
  {
   "cell_type": "code",
   "execution_count": 75,
   "metadata": {},
   "outputs": [
    {
     "data": {
      "text/plain": [
       "species             4048.000000\n",
       "decimalLatitude       89.716667\n",
       "decimalLongitude     179.216800\n",
       "dtype: float64"
      ]
     },
     "execution_count": 75,
     "metadata": {},
     "output_type": "execute_result"
    }
   ],
   "source": [
    "plantSpeciesGroupByCoordinates.max()"
   ]
  },
  {
   "cell_type": "code",
   "execution_count": 48,
   "metadata": {},
   "outputs": [],
   "source": [
    "coordinatesGrid = np.load(\"coordinatesGrid.npy\")/1e5"
   ]
  },
  {
   "cell_type": "code",
   "execution_count": 49,
   "metadata": {},
   "outputs": [
    {
     "data": {
      "text/plain": [
       "array([[[-173.19285864,   73.00124521],\n",
       "        [-172.22799592,   73.00124521],\n",
       "        [-171.26313319,   73.00124521],\n",
       "        ...,\n",
       "        [ 171.26313319,   73.00124521],\n",
       "        [ 172.22799592,   73.00124521],\n",
       "        [ 173.19285864,   73.00124521]],\n",
       "\n",
       "       [[-173.19285864,   72.03609563],\n",
       "        [-172.22799592,   72.03609563],\n",
       "        [-171.26313319,   72.03609563],\n",
       "        ...,\n",
       "        [ 171.26313319,   72.03609563],\n",
       "        [ 172.22799592,   72.03609563],\n",
       "        [ 173.19285864,   72.03609563]],\n",
       "\n",
       "       [[-173.19285864,   71.07094606],\n",
       "        [-172.22799592,   71.07094606],\n",
       "        [-171.26313319,   71.07094606],\n",
       "        ...,\n",
       "        [ 171.26313319,   71.07094606],\n",
       "        [ 172.22799592,   71.07094606],\n",
       "        [ 173.19285864,   71.07094606]],\n",
       "\n",
       "       ...,\n",
       "\n",
       "       [[-173.19285864,  -61.15454606],\n",
       "        [-172.22799592,  -61.15454606],\n",
       "        [-171.26313319,  -61.15454606],\n",
       "        ...,\n",
       "        [ 171.26313319,  -61.15454606],\n",
       "        [ 172.22799592,  -61.15454606],\n",
       "        [ 173.19285864,  -61.15454606]],\n",
       "\n",
       "       [[-173.19285864,  -62.11969563],\n",
       "        [-172.22799592,  -62.11969563],\n",
       "        [-171.26313319,  -62.11969563],\n",
       "        ...,\n",
       "        [ 171.26313319,  -62.11969563],\n",
       "        [ 172.22799592,  -62.11969563],\n",
       "        [ 173.19285864,  -62.11969563]],\n",
       "\n",
       "       [[-173.19285864,  -63.08484521],\n",
       "        [-172.22799592,  -63.08484521],\n",
       "        [-171.26313319,  -63.08484521],\n",
       "        ...,\n",
       "        [ 171.26313319,  -63.08484521],\n",
       "        [ 172.22799592,  -63.08484521],\n",
       "        [ 173.19285864,  -63.08484521]]])"
      ]
     },
     "execution_count": 49,
     "metadata": {},
     "output_type": "execute_result"
    }
   ],
   "source": [
    "coordinatesGrid"
   ]
  },
  {
   "cell_type": "code",
   "execution_count": 50,
   "metadata": {},
   "outputs": [
    {
     "data": {
      "text/plain": [
       "(142, 360, 2)"
      ]
     },
     "execution_count": 50,
     "metadata": {},
     "output_type": "execute_result"
    }
   ],
   "source": [
    "coordinatesGrid.shape"
   ]
  },
  {
   "cell_type": "code",
   "execution_count": 87,
   "metadata": {},
   "outputs": [],
   "source": [
    "longitudes = coordinatesGrid[0][:,0]\n",
    "longitudeMin, longitudeMax = longitudes.min(), longitudes.max()"
   ]
  },
  {
   "cell_type": "code",
   "execution_count": 89,
   "metadata": {},
   "outputs": [],
   "source": [
    "latitudes = coordinatesGrid[:,0][:,1]\n",
    "latitudeMin, latitudeMax = latitudes.min(), latitudes.max()"
   ]
  },
  {
   "cell_type": "code",
   "execution_count": 91,
   "metadata": {},
   "outputs": [],
   "source": [
    "height = len(latitudes)\n",
    "width = len(longitudes)\n"
   ]
  },
  {
   "cell_type": "code",
   "execution_count": 95,
   "metadata": {},
   "outputs": [],
   "source": [
    "allPlants = np.zeros([height,width,3])\n",
    "for i in range(len(latitudes)):\n",
    "    for j in range(len(longitudes)):\n",
    "        allPlants[i][j][1] = coordinatesGrid[i][j][0]\n",
    "        allPlants[i][j][2] = coordinatesGrid[i][j][1]"
   ]
  },
  {
   "cell_type": "markdown",
   "metadata": {},
   "source": [
    "On veut trouver les cases de la grille de coordonnées où mettre les différentes espèces de plantes. \n",
    "\n",
    "Soit une espèce présente dans les cases $$(x,y)$$. On note $$w, h$$ les largeurs et hauteurs de la grille de coordonnées?\n",
    "On veut trouver la case $$(h-i-1,j)$$ dans laquelle insérer l'espèce dans la grille des coordonnées. (les latitudes sont rangées dans l'ordre décroissant)\n",
    "Notons respectivement : $$x_{min}, x_{max}, y_{min}, y_{max}$$\n",
    "Les longitudes minimum et maximum, les latittudes minimum et maximum\n",
    "\n",
    "On a : \n",
    "\n",
    "$$ x_{min} + \\frac{x_{max} - x_{min}}{w} j \\leq x < x_{min} + \\frac{x_{max} - x_{min}}{w} (j+1)$$\n",
    "\n",
    "Et :\n",
    "\n",
    "$$ y_{max} - \\frac{y_{max} - y_{min}}{h} (i+1) < y \\leq y_{max} - \\frac{y_{max} - y_{min}}{h} i$$"
   ]
  },
  {
   "cell_type": "markdown",
   "metadata": {},
   "source": [
    "On obtient alors :\n",
    "\n",
    "$$j = \\lfloor w \\frac{x-x_{min}}{x_{max}-x_{min}} \\rfloor$$\n",
    "\n",
    "et \n",
    "\n",
    "$$i = \\lfloor h \\frac{y_{max}-y}{y_{max}-y_{min}}\\rfloor$$"
   ]
  },
  {
   "cell_type": "code",
   "execution_count": 65,
   "metadata": {},
   "outputs": [
    {
     "data": {
      "text/plain": [
       "array([  2.    , -80.3344, -84.1922])"
      ]
     },
     "execution_count": 65,
     "metadata": {},
     "output_type": "execute_result"
    }
   ],
   "source": [
    "plantSpeciesGroupByCoordinatesArray[0]"
   ]
  },
  {
   "cell_type": "code",
   "execution_count": 120,
   "metadata": {},
   "outputs": [],
   "source": [
    "for nbSpeciesInCoordinate in plantSpeciesGroupByCoordinatesArray :\n",
    "    x = nbSpeciesInCoordinate[1]\n",
    "    y = nbSpeciesInCoordinate[2]\n",
    "    if latitudeMin <= y <= latitudeMax and longitudeMin <= x <= longitudeMax:\n",
    "        i = int(height*(latitudeMax-y)/(latitudeMax-latitudeMin))\n",
    "        j = int(width*(x- longitudeMin)/(longitudeMax-longitudeMin))\n",
    "        allPlants[-i][j][0] += nbSpeciesInCoordinate[0]\n",
    "    "
   ]
  },
  {
   "cell_type": "code",
   "execution_count": 131,
   "metadata": {},
   "outputs": [
    {
     "data": {
      "text/plain": [
       "24.556455399061033"
      ]
     },
     "execution_count": 131,
     "metadata": {},
     "output_type": "execute_result"
    }
   ],
   "source": [
    "allPlants[:,:,0].mean()"
   ]
  },
  {
   "cell_type": "code",
   "execution_count": 132,
   "metadata": {},
   "outputs": [
    {
     "data": {
      "text/plain": [
       "array([[[   0.        , -173.19285864,   73.00124521],\n",
       "        [   0.        , -172.22799592,   73.00124521],\n",
       "        [   0.        , -171.26313319,   73.00124521],\n",
       "        ...,\n",
       "        [   0.        ,  171.26313319,   73.00124521],\n",
       "        [   0.        ,  172.22799592,   73.00124521],\n",
       "        [   0.        ,  173.19285864,   73.00124521]],\n",
       "\n",
       "       [[   0.        , -173.19285864,   72.03609563],\n",
       "        [   0.        , -172.22799592,   72.03609563],\n",
       "        [   0.        , -171.26313319,   72.03609563],\n",
       "        ...,\n",
       "        [   0.        ,  171.26313319,   72.03609563],\n",
       "        [   0.        ,  172.22799592,   72.03609563],\n",
       "        [   0.        ,  173.19285864,   72.03609563]],\n",
       "\n",
       "       [[   0.        , -173.19285864,   71.07094606],\n",
       "        [   0.        , -172.22799592,   71.07094606],\n",
       "        [   0.        , -171.26313319,   71.07094606],\n",
       "        ...,\n",
       "        [   0.        ,  171.26313319,   71.07094606],\n",
       "        [   0.        ,  172.22799592,   71.07094606],\n",
       "        [   0.        ,  173.19285864,   71.07094606]],\n",
       "\n",
       "       ...,\n",
       "\n",
       "       [[   0.        , -173.19285864,  -61.15454606],\n",
       "        [   0.        , -172.22799592,  -61.15454606],\n",
       "        [   0.        , -171.26313319,  -61.15454606],\n",
       "        ...,\n",
       "        [   0.        ,  171.26313319,  -61.15454606],\n",
       "        [   0.        ,  172.22799592,  -61.15454606],\n",
       "        [   0.        ,  173.19285864,  -61.15454606]],\n",
       "\n",
       "       [[   0.        , -173.19285864,  -62.11969563],\n",
       "        [   0.        , -172.22799592,  -62.11969563],\n",
       "        [   0.        , -171.26313319,  -62.11969563],\n",
       "        ...,\n",
       "        [   0.        ,  171.26313319,  -62.11969563],\n",
       "        [   0.        ,  172.22799592,  -62.11969563],\n",
       "        [   0.        ,  173.19285864,  -62.11969563]],\n",
       "\n",
       "       [[   0.        , -173.19285864,  -63.08484521],\n",
       "        [   0.        , -172.22799592,  -63.08484521],\n",
       "        [   0.        , -171.26313319,  -63.08484521],\n",
       "        ...,\n",
       "        [   0.        ,  171.26313319,  -63.08484521],\n",
       "        [   0.        ,  172.22799592,  -63.08484521],\n",
       "        [   0.        ,  173.19285864,  -63.08484521]]])"
      ]
     },
     "execution_count": 132,
     "metadata": {},
     "output_type": "execute_result"
    }
   ],
   "source": [
    "allPlants"
   ]
  },
  {
   "cell_type": "code",
   "execution_count": 133,
   "metadata": {},
   "outputs": [],
   "source": [
    "np.save(\"wildCropsCousinsDiversity\",allPlants)"
   ]
  }
 ],
 "metadata": {
  "kernelspec": {
   "display_name": "Python 3",
   "language": "python",
   "name": "python3"
  },
  "language_info": {
   "codemirror_mode": {
    "name": "ipython",
    "version": 3
   },
   "file_extension": ".py",
   "mimetype": "text/x-python",
   "name": "python",
   "nbconvert_exporter": "python",
   "pygments_lexer": "ipython3",
   "version": "3.10.11"
  },
  "orig_nbformat": 4
 },
 "nbformat": 4,
 "nbformat_minor": 2
}
